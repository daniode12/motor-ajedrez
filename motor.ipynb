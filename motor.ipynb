{
 "cells": [
  {
   "cell_type": "code",
   "execution_count": 1,
   "metadata": {},
   "outputs": [],
   "source": [
    "import chess"
   ]
  },
  {
   "cell_type": "code",
   "execution_count": 2,
   "metadata": {},
   "outputs": [],
   "source": [
    "board = chess.Board()"
   ]
  },
  {
   "cell_type": "code",
   "execution_count": 3,
   "metadata": {},
   "outputs": [],
   "source": [
    "import time\n",
    "from IPython.display import display, HTML, clear_output"
   ]
  },
  {
   "cell_type": "code",
   "execution_count": 4,
   "metadata": {},
   "outputs": [],
   "source": [
    "def who(player):\n",
    "    return \"White\" if player == chess.WHITE else \"Black\""
   ]
  },
  {
   "cell_type": "code",
   "execution_count": 5,
   "metadata": {},
   "outputs": [],
   "source": [
    "def display_board(board, use_svg):\n",
    "    if use_svg:\n",
    "        return board._repr_svg_()\n",
    "    else:\n",
    "        return \"<pre>\" + str(board) + \"</pre>\""
   ]
  },
  {
   "cell_type": "code",
   "execution_count": 6,
   "metadata": {},
   "outputs": [],
   "source": [
    "def play_game(player1, player2, visual=\"svg\", pause=0.1):\n",
    "    \"\"\"\n",
    "    playerN1, player2: functions that takes board, return uci move\n",
    "    visual: \"simple\" | \"svg\" | None\n",
    "    \"\"\"\n",
    "    use_svg = (visual == \"svg\")\n",
    "    board = chess.Board()\n",
    "    try:\n",
    "        planilla = []\n",
    "        numero_jugada = 1.0\n",
    "        while not board.is_game_over(claim_draw=True):\n",
    "            if board.turn == chess.WHITE:\n",
    "                uci = player1(board)\n",
    "            else:\n",
    "                uci = player2(board)\n",
    "            name = who(board.turn)\n",
    "            board.push_uci(uci)\n",
    "            board_stop = display_board(board, use_svg)\n",
    "            html = \"<b>Move %s %s, Play '%s':</b><br/>%s\" % (\n",
    "                       len(board.move_stack), name, uci, board_stop)\n",
    "            if visual is not None:\n",
    "                if visual == \"svg\":\n",
    "                    clear_output(wait=True)\n",
    "                display(HTML(html))\n",
    "                if visual == \"svg\":\n",
    "                    time.sleep(pause)\n",
    "            planilla.append(str(numero_jugada) + '. ' + uci)\n",
    "            print(planilla)\n",
    "            numero_jugada = numero_jugada + 0.5 \n",
    "    except KeyboardInterrupt:\n",
    "        msg = \"Game interrupted!\"\n",
    "        return (None, msg, board)\n",
    "    result = None\n",
    "    if board.is_checkmate():\n",
    "        msg = \"checkmate: \" + who(not board.turn) + \" wins!\"\n",
    "        result = not board.turn\n",
    "    elif board.is_stalemate():\n",
    "        msg = \"draw: stalemate\"\n",
    "    elif board.is_fivefold_repetition():\n",
    "        msg = \"draw: 5-fold repetition\"\n",
    "    elif board.is_insufficient_material():\n",
    "        msg = \"draw: insufficient material\"\n",
    "    elif board.can_claim_draw():\n",
    "        msg = \"draw: claim\"\n",
    "    if visual is not None:\n",
    "        print(msg)\n",
    "    return (result, msg, board)"
   ]
  },
  {
   "cell_type": "code",
   "execution_count": 7,
   "metadata": {},
   "outputs": [],
   "source": [
    "import random"
   ]
  },
  {
   "cell_type": "code",
   "execution_count": 8,
   "metadata": {},
   "outputs": [],
   "source": [
    "def random_player(board):\n",
    "    move = random.choice(list(board.legal_moves))\n",
    "    return move.uci()"
   ]
  },
  {
   "cell_type": "code",
   "execution_count": 9,
   "metadata": {},
   "outputs": [],
   "source": [
    "def human_player(board):\n",
    "    display(board)\n",
    "    uci = get_move(\"%s's move [q to quit]> \" % who(board.turn))\n",
    "    legal_uci_moves = [move.uci() for move in board.legal_moves]\n",
    "    while uci not in legal_uci_moves:\n",
    "        print(\"Legal moves: \" + (\",\".join(sorted(legal_uci_moves))))\n",
    "        uci = get_move(\"%s's move[q to quit]> \" % who(board.turn))\n",
    "    return uci"
   ]
  },
  {
   "cell_type": "code",
   "execution_count": 10,
   "metadata": {},
   "outputs": [],
   "source": [
    "def get_move(prompt):\n",
    "    uci = input(prompt)\n",
    "    if uci and uci[0] == \"q\":\n",
    "        raise KeyboardInterrupt()\n",
    "    try:\n",
    "        chess.Move.from_uci(uci)\n",
    "    except:\n",
    "        uci = None\n",
    "    return uci"
   ]
  },
  {
   "cell_type": "code",
   "execution_count": 11,
   "metadata": {},
   "outputs": [],
   "source": [
    "def player1(board):\n",
    "    moves = list(board.legal_moves)\n",
    "    for move in moves:\n",
    "        newboard = board.copy()\n",
    "        # go through board and return a score\n",
    "        move.score = staticAnalysis1(newboard, move, board.turn)\n",
    "    moves.sort(key=lambda move: move.score, reverse=True) # sort on score\n",
    "    return moves[0].uci()"
   ]
  },
  {
   "cell_type": "code",
   "execution_count": 12,
   "metadata": {},
   "outputs": [],
   "source": [
    "def staticAnalysis1(board, move, my_color):\n",
    "    score = 0\n",
    "    ## Check some things about this move:\n",
    "    # To actually make the move:\n",
    "    board.push(move)\n",
    "    # Now check some other things:\n",
    "    for (piece, value) in [(chess.PAWN, 1), \n",
    "                           (chess.BISHOP, 4), \n",
    "                           (chess.KING, 0), \n",
    "                           (chess.QUEEN, 10), \n",
    "                           (chess.KNIGHT, 5),\n",
    "                           (chess.ROOK, 3)]:\n",
    "        score += len(board.pieces(piece, my_color)) * value\n",
    "        score -= len(board.pieces(piece, not my_color)) * value\n",
    "        # can also check things about the pieces position here\n",
    "    return score"
   ]
  },
  {
   "cell_type": "code",
   "execution_count": 13,
   "metadata": {},
   "outputs": [],
   "source": [
    "def player2(board):\n",
    "    moves = list(board.legal_moves)\n",
    "    for move in moves:\n",
    "        newboard = board.copy()\n",
    "        # go through board and return a score\n",
    "        move.score = staticAnalysis2(newboard, move, board.turn)\n",
    "    moves.sort(key=lambda move: move.score, reverse=True) # sort on score\n",
    "    return moves[0].uci()"
   ]
  },
  {
   "cell_type": "code",
   "execution_count": 14,
   "metadata": {},
   "outputs": [],
   "source": [
    "def staticAnalysis2(board, move, my_color):                              # mejora de la funcion de analisis anterior\n",
    "    score = random.random()\n",
    "    ## Check some things about this move:\n",
    "    # To actually make the move:\n",
    "    board.push(move)\n",
    "    # Now check some other things:\n",
    "    for (piece, value) in [(chess.PAWN, 1), \n",
    "                           (chess.BISHOP, 4), \n",
    "                           (chess.KING, 0), \n",
    "                           (chess.QUEEN, 10), \n",
    "                           (chess.KNIGHT, 5),\n",
    "                           (chess.ROOK, 3)]:\n",
    "        score += len(board.pieces(piece, my_color)) * value\n",
    "        score -= len(board.pieces(piece, not my_color)) * value\n",
    "        # can also check things about the pieces position here\n",
    "    return score"
   ]
  },
  {
   "cell_type": "code",
   "execution_count": 15,
   "metadata": {},
   "outputs": [],
   "source": [
    "def player3(board):\n",
    "    moves = list(board.legal_moves)\n",
    "    for move in moves:\n",
    "        newboard = board.copy()\n",
    "        # go through board and return a score\n",
    "        move.score = staticAnalysis3(newboard, move, board.turn)\n",
    "    moves.sort(key=lambda move: move.score, reverse=True) # sort on score\n",
    "    return moves[0].uci()"
   ]
  },
  {
   "cell_type": "code",
   "execution_count": 16,
   "metadata": {},
   "outputs": [],
   "source": [
    "def staticAnalysis3(board, move, my_color):                             # mejora de la funcion de analisis anterior\n",
    "    ## Check some things about this move:\n",
    "    score = random.random()\n",
    "    score += 1 if board.is_capture(move) else 0\n",
    "    score += 1 if board.is_castling(move) else 0\n",
    "    # To actually make the move:\n",
    "    board.push(move)\n",
    "    # Now check some other things:\n",
    "    for (piece, value) in [(chess.PAWN, 1), \n",
    "                           (chess.BISHOP, 3), \n",
    "                           (chess.KING, 0),\n",
    "                           (chess.QUEEN, 9), \n",
    "                           (chess.KNIGHT, 3),\n",
    "                           (chess.ROOK, 5)]:\n",
    "        score += len(board.pieces(piece, my_color)) * value\n",
    "        score -= len(board.pieces(piece, not my_color)) * value\n",
    "        # can also check things about the pieces position here\n",
    "    # Check global things about the board\n",
    "    score += 100 if board.is_checkmate() else 0\n",
    "    score -= 100 if board.is_stalemate() else 0\n",
    "    score -= 0 if board.has_castling_rights(my_color) else 1\n",
    "    score += 0 if board.has_castling_rights(not my_color) else 1\n",
    "    return score"
   ]
  },
  {
   "cell_type": "code",
   "execution_count": 17,
   "metadata": {},
   "outputs": [],
   "source": [
    "def player4(board):\n",

   ]
  },
  {
   "cell_type": "code",
   "execution_count": 18,
   "metadata": {},
   "outputs": [],
   "source": [
    "def minimax(board, depth):\n",
    "#Returns a tuple (score, bestmove) for the position at the given depth\n",
    "    if depth == 0 or board.is_checkmate() or board.is_stalemate() or board.is_fivefold_repetition() or board.is_insufficient_material() or board.can_claim_draw():\n",
    "        return [staticAnalysis4(board), None]\n",
    "    else: \n",
    "        if board.turn == chess.WHITE:\n",
    "            bestscore = -float(\"inf\")\n",
    "            bestmove = None\n",
    "            for move in list(board.legal_moves):\n",
    "                newboard = board.copy()\n",
    "                newboard.push(move)\n",
    "                score_and_move = minimax(newboard, depth - 1)\n",
    "                score = score_and_move[0]\n",
    "                if score > bestscore: # white maximizes her score\n",
    "                    bestscore = score\n",
    "                    bestmove = move\n",
    "            return [bestscore, bestmove]\n",
    "        else:\n",
    "            bestscore = float(\"inf\")\n",
    "            bestmove = None\n",
    "            for move in list(board.legal_moves):\n",
    "                newboard = board.copy()\n",
    "                newboard.push(move)\n",
    "                score_and_move = minimax(newboard, depth - 1)\n",
    "                score = score_and_move[0]\n",
    "                if score < bestscore: # black minimizes his score\n",
    "                    bestscore = score\n",
    "                    bestmove = move\n",
    "            return [bestscore, bestmove]"
   ]
  },
  {
   "cell_type": "code",
   "execution_count": 19,
   "metadata": {},
   "outputs": [],
   "source": [
    "def staticAnalysis4(board):\n",
    "    score = random.random()\n",
    "    for (piece, value) in [(chess.PAWN, 1), \n",
    "                           (chess.BISHOP, 3), \n",
    "                           (chess.KING, 0), \n",
    "                           (chess.QUEEN, 9), \n",
    "                           (chess.KNIGHT, 3),\n",
    "                           (chess.ROOK, 5)]:\n",
    "        score += len(board.pieces(piece, chess.WHITE)) * value\n",
    "        score -= len(board.pieces(piece, chess.BLACK)) * value\n",
    "        # can also check things about the pieces position here\n",
    "    # Check global things about the board\n",
    "    if board.turn == chess.BLACK and board.is_checkmate():\n",
    "        score += 100\n",
    "    if board.turn == chess.WHITE and board.is_checkmate():\n",
    "        score -= 100\n",
    "    return score"
   ]
  },
  {
   "cell_type": "code",
   "execution_count": 20,
   "metadata": {},
   "outputs": [],
   "source": [
    "def player5(board):\n",
    "    score_and_move = alphabeta(board, 3, -float(\"inf\"), float(\"inf\"))\n",
    "    move = score_and_move[1]\n",
    "    return move.uci()"
   ]
  },
  {
   "cell_type": "code",
   "execution_count": 21,
   "metadata": {},
   "outputs": [],
   "source": [
    "def alphabeta(board, depth, alpha, beta):\n",
    "#Returns a tuple (score, bestmove) for the position at the given depth\n",
    "    if depth == 0 or board.is_checkmate() or board.is_stalemate() or board.is_fivefold_repetition() or board.is_insufficient_material() or board.can_claim_draw():\n",
    "        return [staticAnalysis5(board), None]\n",
    "    else: \n",
    "        if board.turn == chess.WHITE:\n",
    "            bestmove = None\n",
    "            for move in board.legal_moves:\n",
    "                newboard = board.copy()\n",
    "                newboard.push(move)\n",
    "                score_and_move = alphabeta(newboard, depth - 1, alpha, beta)\n",
    "                score = score_and_move[0]\n",
    "                if score > alpha: # white maximizes her score\n",
    "                    alpha = score\n",
    "                    bestmove = move\n",
    "                    if alpha >= beta: # alpha-beta cutoff\n",
    "                        break\n",
    "            return [alpha, bestmove]\n",
    "        else:\n",
    "            bestmove = None\n",
    "            for move in board.legal_moves:\n",
    "                newboard = board.copy()\n",
    "                newboard.push(move)\n",
    "                score_and_move = alphabeta(newboard, depth - 1, alpha, beta)\n",
    "                score = score_and_move[0]\n",
    "                if score < beta: # black minimizes his score\n",
    "                    beta = score\n",
    "                    bestmove = move\n",
    "                    if alpha >= beta: # alpha-beta cutoff\n",
    "                        break\n",
    "            return [beta, bestmove]"
   ]
  },
  {
   "cell_type": "code",
   "execution_count": 19,
   "metadata": {},
   "outputs": [],
   "source": [
    "def staticAnalysis5(board):\n",
    "    score = random.random()\n",
    "    for (piece, value) in [(chess.PAWN, 1), \n",
    "                           (chess.BISHOP, 3), \n",
    "                           (chess.KING, 0), \n",
    "                           (chess.QUEEN, 9), \n",
    "                           (chess.KNIGHT, 3),\n",
    "                           (chess.ROOK, 5)]:\n",
    "        score += len(board.pieces(piece, chess.WHITE)) * value\n",
    "        score -= len(board.pieces(piece, chess.BLACK)) * value\n",
    "        # can also check things about the pieces position here\n",
    "    # Check global things about the board\n",
    "    if board.turn == chess.BLACK and board.is_checkmate():\n",
    "        score += 100\n",
    "    if board.turn == chess.WHITE and board.is_checkmate():\n",
    "        score -= 100\n",
    "    return score"
   ]
  },
  {
   "cell_type": "code",
   "execution_count": 20,
   "metadata": {
    "scrolled": true
   },
   "outputs": [
    {
     "data": {
      "text/html": [
      ],
      "text/plain": [
       "<IPython.core.display.HTML object>"
      ]
     },
     "metadata": {},
     "output_type": "display_data"
    },
    {
     "name": "stdout",
     "output_type": "stream",
     "text": [
     ]
    }
   ],
   "source": [
    "first_game = play_game(player5,player4)"
   ]
  },
  {
   "cell_type": "code",
   "execution_count": null,
   "metadata": {},
   "outputs": [],
   "source": []
  }
 ],
 "metadata": {
  "kernelspec": {
   "display_name": "Python 3",
   "language": "python",
   "name": "python3"
  },
  "language_info": {
   "codemirror_mode": {
    "name": "ipython",
    "version": 3
   },
   "file_extension": ".py",
   "mimetype": "text/x-python",
   "name": "python",
   "nbconvert_exporter": "python",
   "pygments_lexer": "ipython3",
   "version": "3.7.0"
  }
 },
 "nbformat": 4,
 "nbformat_minor": 2
}
